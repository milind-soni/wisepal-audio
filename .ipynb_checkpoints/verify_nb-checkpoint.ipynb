{
 "cells": [
  {
   "cell_type": "code",
   "execution_count": 6,
   "id": "59579857",
   "metadata": {},
   "outputs": [],
   "source": [
    "import speechbrain as sb\n",
    "from speechbrain.dataio.dataio import read_audio\n",
    "from IPython.display import Audio\n",
    "import streamlit as st\n",
    "import time\n",
    "from speechbrain.pretrained import SpeakerRecognition\n",
    "import os\n",
    "\n",
    "\n",
    "\n",
    "st.header(\"Audio Verification app\")\n",
    "st.set_option('deprecation.showfileUploaderEncoding', False)\n",
    "\n",
    "prediction = None \n",
    "score = None \n",
    "\n",
    "fileObject = st.file_uploader(label = \"Please upload your sample audio file of the interviewee\" )\n",
    "fileObject2 = st.file_uploader(label = \"Please upload your sample audio file of the interviewee\" ,key = \"2\" )\n",
    "\n",
    "if fileObject is not None:\n",
    "    file_details = {\"FileName\":fileObject.name,\"FileType\":fileObject.type,\"FileSize\":fileObject.size}\n",
    "    st.write(file_details)\n",
    "\n",
    "if fileObject2 is not None:\n",
    "    file_details = {\"FileName\":fileObject2.name,\"FileType\":fileObject2.type,\"FileSize\":fileObject2.size}\n",
    "    st.write(file_details)\n",
    "   \n",
    "if st.button('result'):\n",
    "    verification = SpeakerRecognition.from_hparams(source=\"speechbrain/spkrec-ecapa-voxceleb\", savedir=\"pretrained_models/spkrec-ecapa-voxceleb\")\n",
    "    from speechbrain.pretrained import EncoderDecoderASR\n",
    "\n",
    "    asr_model = EncoderDecoderASR.from_hparams(source=\"speechbrain/asr-crdnn-rnnlm-librispeech\", savedir=\"pretrained_models/asr-crdnn-rnnlm-librispeech\")\n",
    "    transcription = asr_model.transcribe_file(fileObject2.name)\n",
    "    \n",
    "    score, prediction = verification.verify_files(fileObject.name, fileObject2.name)\n",
    "    st.write(prediction)\n",
    "    st.write(score)\n",
    "    st.write(transcription)\n",
    " \n",
    "\n",
    "\n"
   ]
  },
  {
   "cell_type": "code",
   "execution_count": 7,
   "id": "8da1c3e7",
   "metadata": {},
   "outputs": [
    {
     "name": "stdout",
     "output_type": "stream",
     "text": [
      "Authtoken saved to configuration file: /home/milindsoni/.ngrok2/ngrok.yml\r\n"
     ]
    }
   ],
   "source": [
    "!./ngrok authtoken 1uwY8amuNwhpFtq1FZM6C21h7pp_g7vDBP6GMFduv9mKojJh"
   ]
  },
  {
   "cell_type": "code",
   "execution_count": 8,
   "id": "7c0ac67a",
   "metadata": {},
   "outputs": [
    {
     "name": "stdout",
     "output_type": "stream",
     "text": [
      "Defaulting to user installation because normal site-packages is not writeable\n",
      "Requirement already satisfied: pyngrok in /home/milindsoni/.local/lib/python3.9/site-packages (5.0.5)\n",
      "Requirement already satisfied: PyYAML in /home/milindsoni/.local/lib/python3.9/site-packages (from pyngrok) (5.4.1)\n"
     ]
    }
   ],
   "source": [
    "!pip install pyngrok"
   ]
  },
  {
   "cell_type": "code",
   "execution_count": 9,
   "id": "a1bf665f",
   "metadata": {},
   "outputs": [],
   "source": [
    "get_ipython().system_raw('./ngrok http -region in 8502 &')"
   ]
  },
  {
   "cell_type": "code",
   "execution_count": 10,
   "id": "afad82d9",
   "metadata": {},
   "outputs": [
    {
     "name": "stdout",
     "output_type": "stream",
     "text": [
      "Execute the next cell and the go to the following URL: https://e1ea5596db83.in.ngrok.io\r\n"
     ]
    }
   ],
   "source": [
    "!curl -s http://localhost:4040/api/tunnels | python3 -c \\\n",
    "    'import sys, json; print(\"Execute the next cell and the go to the following URL: \" +json.load(sys.stdin)[\"tunnels\"][0][\"public_url\"])'"
   ]
  },
  {
   "cell_type": "code",
   "execution_count": null,
   "id": "b4e205a0",
   "metadata": {},
   "outputs": [
    {
     "name": "stdout",
     "output_type": "stream",
     "text": [
      "\u001b[0m\r\n",
      "\u001b[34m\u001b[1m  You can now view your Streamlit app in your browser.\u001b[0m\r\n",
      "\u001b[0m\r\n",
      "\u001b[34m  Local URL: \u001b[0m\u001b[1mhttp://localhost:8504\u001b[0m\r\n",
      "\u001b[34m  Network URL: \u001b[0m\u001b[1mhttp://192.168.1.13:8504\u001b[0m\r\n",
      "\u001b[0m\r\n"
     ]
    }
   ],
   "source": [
    "!streamlit run app.py"
   ]
  },
  {
   "cell_type": "code",
   "execution_count": 7,
   "id": "1056f676",
   "metadata": {},
   "outputs": [
    {
     "name": "stdout",
     "output_type": "stream",
     "text": [
      "2021-07-06 22:31:35.049 Port 8502 is already in use\r\n"
     ]
    }
   ],
   "source": [
    "!streamlit run --server.port 8502 app.py >/dev/null"
   ]
  },
  {
   "cell_type": "code",
   "execution_count": null,
   "id": "ae56566e",
   "metadata": {},
   "outputs": [],
   "source": []
  }
 ],
 "metadata": {
  "kernelspec": {
   "display_name": "Python 3",
   "language": "python",
   "name": "python3"
  },
  "language_info": {
   "codemirror_mode": {
    "name": "ipython",
    "version": 3
   },
   "file_extension": ".py",
   "mimetype": "text/x-python",
   "name": "python",
   "nbconvert_exporter": "python",
   "pygments_lexer": "ipython3",
   "version": "3.9.5"
  }
 },
 "nbformat": 4,
 "nbformat_minor": 5
}
