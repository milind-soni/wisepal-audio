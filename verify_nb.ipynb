{
 "cells": [
  {
   "cell_type": "code",
   "execution_count": 24,
   "id": "59579857",
   "metadata": {},
   "outputs": [],
   "source": [
    "import speechbrain as sb\n",
    "from speechbrain.dataio.dataio import read_audio\n",
    "from IPython.display import Audio\n",
    "import streamlit as st\n",
    "import time\n",
    "from speechbrain.pretrained import SpeakerRecognition\n",
    "import os\n",
    "\n",
    "\n",
    "\n",
    "st.header(\"Audio Verification app\")\n",
    "st.set_option('deprecation.showfileUploaderEncoding', False)\n",
    "\n",
    "prediction = None \n",
    "score = None \n",
    "\n",
    "fileObject = st.file_uploader(label = \"Please upload your sample audio file of the interviewee\" )\n",
    "fileObject2 = st.file_uploader(label = \"Please upload your sample audio file of the interviewee\" ,key = \"2\" )\n",
    "\n",
    "if fileObject is not None:\n",
    "    file_details = {\"FileName\":fileObject.name,\"FileType\":fileObject.type,\"FileSize\":fileObject.size}\n",
    "    st.write(file_details)\n",
    "\n",
    "if fileObject2 is not None:\n",
    "    file_details = {\"FileName\":fileObject2.name,\"FileType\":fileObject2.type,\"FileSize\":fileObject2.size}\n",
    "    st.write(file_details)\n",
    "   \n",
    "if st.button('result'):\n",
    "    verification = SpeakerRecognition.from_hparams(source=\"speechbrain/spkrec-ecapa-voxceleb\", savedir=\"pretrained_models/spkrec-ecapa-voxceleb\")\n",
    "    from speechbrain.pretrained import EncoderDecoderASR\n",
    "\n",
    "    asr_model = EncoderDecoderASR.from_hparams(source=\"speechbrain/asr-crdnn-rnnlm-librispeech\", savedir=\"pretrained_models/asr-crdnn-rnnlm-librispeech\")\n",
    "    transcription = asr_model.transcribe_file(fileObject2.name)\n",
    "    \n",
    "    score, prediction = verification.verify_files(fileObject.name, fileObject2.name)\n",
    "    st.write(prediction)\n",
    "    st.write(score)\n",
    "    st.write(transcription)\n",
    " \n",
    "\n",
    "\n"
   ]
  },
  {
   "cell_type": "code",
   "execution_count": 25,
   "id": "8da1c3e7",
   "metadata": {},
   "outputs": [
    {
     "name": "stdout",
     "output_type": "stream",
     "text": [
      "Authtoken saved to configuration file: /home/milindsoni/.ngrok2/ngrok.yml\r\n"
     ]
    }
   ],
   "source": [
    "!./ngrok authtoken 1uwY8amuNwhpFtq1FZM6C21h7pp_g7vDBP6GMFduv9mKojJh"
   ]
  },
  {
   "cell_type": "code",
   "execution_count": 26,
   "id": "7c0ac67a",
   "metadata": {},
   "outputs": [
    {
     "name": "stdout",
     "output_type": "stream",
     "text": [
      "Defaulting to user installation because normal site-packages is not writeable\n",
      "Requirement already satisfied: pyngrok in /home/milindsoni/.local/lib/python3.9/site-packages (5.0.5)\n",
      "Requirement already satisfied: PyYAML in /home/milindsoni/.local/lib/python3.9/site-packages (from pyngrok) (5.4.1)\n"
     ]
    }
   ],
   "source": [
    "!pip install pyngrok"
   ]
  },
  {
   "cell_type": "code",
   "execution_count": 27,
   "id": "a1bf665f",
   "metadata": {},
   "outputs": [],
   "source": [
    "get_ipython().system_raw('./ngrok http -region in 8502 &')"
   ]
  },
  {
   "cell_type": "code",
   "execution_count": 28,
   "id": "afad82d9",
   "metadata": {},
   "outputs": [
    {
     "name": "stdout",
     "output_type": "stream",
     "text": [
      "Execute the next cell and the go to the following URL: https://e1ea5596db83.in.ngrok.io\r\n"
     ]
    }
   ],
   "source": [
    "!curl -s http://localhost:4040/api/tunnels | python3 -c \\\n",
    "    'import sys, json; print(\"Execute the next cell and the go to the following URL: \" +json.load(sys.stdin)[\"tunnels\"][0][\"public_url\"])'"
   ]
  },
  {
   "cell_type": "code",
   "execution_count": null,
   "id": "b4e205a0",
   "metadata": {},
   "outputs": [
    {
     "name": "stdout",
     "output_type": "stream",
     "text": [
      "\u001b[0m\n",
      "\u001b[34m\u001b[1m  You can now view your Streamlit app in your browser.\u001b[0m\n",
      "\u001b[0m\n",
      "\u001b[34m  Local URL: \u001b[0m\u001b[1mhttp://localhost:8504\u001b[0m\n",
      "\u001b[34m  Network URL: \u001b[0m\u001b[1mhttp://192.168.1.13:8504\u001b[0m\n",
      "\u001b[0m\n",
      "2021-07-07 10:34:58.877 Got an empty FileUploader widget_value. (We expect a list with at least one value in it.)\n",
      "2021-07-07 10:37:27.787 Got an empty FileUploader widget_value. (We expect a list with at least one value in it.)\n",
      "2021-07-07 10:37:27.788 Got an empty FileUploader widget_value. (We expect a list with at least one value in it.)\n"
     ]
    }
   ],
   "source": [
    "!streamlit run app.py"
   ]
  },
  {
   "cell_type": "code",
   "execution_count": 19,
   "id": "1056f676",
   "metadata": {},
   "outputs": [
    {
     "name": "stdout",
     "output_type": "stream",
     "text": [
      "2021-07-07 10:11:45.396 Port 8502 is already in use\r\n"
     ]
    }
   ],
   "source": [
    "!streamlit run --server.port 8502 app.py >/dev/null"
   ]
  },
  {
   "cell_type": "code",
   "execution_count": 23,
   "id": "ae56566e",
   "metadata": {},
   "outputs": [
    {
     "name": "stdout",
     "output_type": "stream",
     "text": [
      "2021-07-07 10:30:04.336 \n",
      "  \u001b[33m\u001b[1mWarning:\u001b[0m to view this Streamlit app on a browser, run it with the following\n",
      "  command:\n",
      "\n",
      "    streamlit run app.py [ARGUMENTS]\n",
      "   Memory usage: \u001b[38;5;22m████████████████████████\u001b[0m (max: 118.28MB, growth rate:  23%)   \n",
      "                  app.py: % of time = 100.00% out of   6.77s.                  \n",
      "       ╷       ╷       ╷       ╷        ╷       ╷               ╷       ╷      \n",
      " \u001b[1m \u001b[0m\u001b[1;2mLine\u001b[0m\u001b[1m \u001b[0m│\u001b[1;34mTime\u001b[0m\u001b[1m  \u001b[0m\u001b[1m \u001b[0m│\u001b[1;34m––––––\u001b[0m\u001b[1m \u001b[0m│\u001b[1;34m––––––\u001b[0m\u001b[1m \u001b[0m│\u001b[1;38;5;22mMemory\u001b[0m\u001b[1m \u001b[0m\u001b[1m \u001b[0m│\u001b[1;38;5;22m––––––\u001b[0m\u001b[1m \u001b[0m│\u001b[1;38;5;22m–––––––––––\u001b[0m\u001b[1m   \u001b[0m\u001b[1m \u001b[0m│\u001b[1;38;5;106mCopy\u001b[0m\u001b[1m  \u001b[0m\u001b[1m \u001b[0m│\u001b[1m    \u001b[0m\u001b[1m \u001b[0m \n",
      "       │\u001b[1;3;34mPython\u001b[0m\u001b[1m \u001b[0m│\u001b[1;3;34mnative\u001b[0m\u001b[1m \u001b[0m│\u001b[1;3;34msystem\u001b[0m\u001b[1m \u001b[0m│\u001b[1;3;38;5;22mPython\u001b[0m\u001b[1m \u001b[0m\u001b[1m \u001b[0m│\u001b[1;3;38;5;22mnet\u001b[0m\u001b[1m   \u001b[0m\u001b[1m \u001b[0m│\u001b[1;3;38;5;22mtimeline\u001b[0m\u001b[1;38;5;22m/%\u001b[0m\u001b[1m    \u001b[0m\u001b[1m \u001b[0m│\u001b[1;3;38;5;106m(MB/s)\u001b[0m\u001b[1m \u001b[0m│\u001b[1mapp…\u001b[0m\u001b[1m \u001b[0m \n",
      "╺━━━━━━┿━━━━━━━┿━━━━━━━┿━━━━━━━┿━━━━━━━━┿━━━━━━━┿━━━━━━━━━━━━━━━┿━━━━━━━┿━━━━━╸\n",
      " \u001b[2m \u001b[0m\u001b[2m   1\u001b[0m\u001b[2m \u001b[0m│\u001b[1;31m   30%\u001b[0m\u001b[34m \u001b[0m│\u001b[1;31m    7%\u001b[0m\u001b[34m \u001b[0m│\u001b[34m   8% \u001b[0m\u001b[34m \u001b[0m│\u001b[38;5;22m  38%  \u001b[0m\u001b[38;5;22m \u001b[0m│\u001b[38;5;22m   77M\u001b[0m\u001b[38;5;22m \u001b[0m│\u001b[1;31m▃▃▃▃  43%\u001b[0m\u001b[38;5;22m     \u001b[0m\u001b[38;5;22m \u001b[0m│\u001b[38;5;106m     5\u001b[0m\u001b[38;5;106m \u001b[0m│\u001b[38;2;205;0;205;48;2;0;0;0mimpo\u001b[0m  \n",
      " \u001b[2m \u001b[0m\u001b[2m   2\u001b[0m\u001b[2m \u001b[0m│\u001b[34m      \u001b[0m\u001b[34m \u001b[0m│\u001b[34m      \u001b[0m\u001b[34m \u001b[0m│\u001b[34m      \u001b[0m\u001b[34m \u001b[0m│\u001b[38;5;22m       \u001b[0m\u001b[38;5;22m \u001b[0m│\u001b[38;5;22m      \u001b[0m\u001b[38;5;22m \u001b[0m│\u001b[38;5;22m              \u001b[0m\u001b[38;5;22m \u001b[0m│\u001b[38;5;106m      \u001b[0m\u001b[38;5;106m \u001b[0m│\u001b[38;2;205;0;205;48;2;0;0;0mfrom\u001b[0m  \n",
      " \u001b[2m \u001b[0m\u001b[2m   3\u001b[0m\u001b[2m \u001b[0m│\u001b[34m      \u001b[0m\u001b[34m \u001b[0m│\u001b[34m      \u001b[0m\u001b[34m \u001b[0m│\u001b[34m      \u001b[0m\u001b[34m \u001b[0m│\u001b[38;5;22m       \u001b[0m\u001b[38;5;22m \u001b[0m│\u001b[38;5;22m      \u001b[0m\u001b[38;5;22m \u001b[0m│\u001b[38;5;22m              \u001b[0m\u001b[38;5;22m \u001b[0m│\u001b[38;5;106m      \u001b[0m\u001b[38;5;106m \u001b[0m│\u001b[38;2;205;0;205;48;2;0;0;0mfrom\u001b[0m  \n",
      " \u001b[2m \u001b[0m\u001b[2m   4\u001b[0m\u001b[2m \u001b[0m│\u001b[1;31m   40%\u001b[0m\u001b[34m \u001b[0m│\u001b[1;31m    2%\u001b[0m\u001b[34m \u001b[0m│\u001b[34m   8% \u001b[0m\u001b[34m \u001b[0m│\u001b[38;5;22m  45%  \u001b[0m\u001b[38;5;22m \u001b[0m│\u001b[38;5;22m   39M\u001b[0m\u001b[38;5;22m \u001b[0m│\u001b[1;31m▄▄▄▄▄▄▄  47%\u001b[0m\u001b[38;5;22m  \u001b[0m\u001b[38;5;22m \u001b[0m│\u001b[38;5;106m     9\u001b[0m\u001b[38;5;106m \u001b[0m│\u001b[38;2;205;0;205;48;2;0;0;0mimpo\u001b[0m  \n",
      " \u001b[2m \u001b[0m\u001b[2m   5\u001b[0m\u001b[2m \u001b[0m│\u001b[34m      \u001b[0m\u001b[34m \u001b[0m│\u001b[34m      \u001b[0m\u001b[34m \u001b[0m│\u001b[34m      \u001b[0m\u001b[34m \u001b[0m│\u001b[38;5;22m       \u001b[0m\u001b[38;5;22m \u001b[0m│\u001b[38;5;22m      \u001b[0m\u001b[38;5;22m \u001b[0m│\u001b[38;5;22m              \u001b[0m\u001b[38;5;22m \u001b[0m│\u001b[38;5;106m      \u001b[0m\u001b[38;5;106m \u001b[0m│\u001b[38;2;205;0;205;48;2;0;0;0mimpo\u001b[0m  \n",
      " \u001b[2m \u001b[0m\u001b[2m   6\u001b[0m\u001b[2m \u001b[0m│\u001b[34m      \u001b[0m\u001b[34m \u001b[0m│\u001b[34m      \u001b[0m\u001b[34m \u001b[0m│\u001b[34m      \u001b[0m\u001b[34m \u001b[0m│\u001b[38;5;22m       \u001b[0m\u001b[38;5;22m \u001b[0m│\u001b[38;5;22m      \u001b[0m\u001b[38;5;22m \u001b[0m│\u001b[38;5;22m              \u001b[0m\u001b[38;5;22m \u001b[0m│\u001b[38;5;106m      \u001b[0m\u001b[38;5;106m \u001b[0m│\u001b[38;2;205;0;205;48;2;0;0;0mfrom\u001b[0m  \n",
      " \u001b[2m \u001b[0m\u001b[2m   7\u001b[0m\u001b[2m \u001b[0m│\u001b[34m      \u001b[0m\u001b[34m \u001b[0m│\u001b[34m      \u001b[0m\u001b[34m \u001b[0m│\u001b[34m      \u001b[0m\u001b[34m \u001b[0m│\u001b[38;5;22m       \u001b[0m\u001b[38;5;22m \u001b[0m│\u001b[38;5;22m      \u001b[0m\u001b[38;5;22m \u001b[0m│\u001b[38;5;22m              \u001b[0m\u001b[38;5;22m \u001b[0m│\u001b[38;5;106m      \u001b[0m\u001b[38;5;106m \u001b[0m│\u001b[38;2;205;0;205;48;2;0;0;0mimpo\u001b[0m  \n",
      " \u001b[2m \u001b[0m\u001b[2m   8\u001b[0m\u001b[2m \u001b[0m│\u001b[34m      \u001b[0m\u001b[34m \u001b[0m│\u001b[34m      \u001b[0m\u001b[34m \u001b[0m│\u001b[34m      \u001b[0m\u001b[34m \u001b[0m│\u001b[38;5;22m       \u001b[0m\u001b[38;5;22m \u001b[0m│\u001b[38;5;22m      \u001b[0m\u001b[38;5;22m \u001b[0m│\u001b[38;5;22m              \u001b[0m\u001b[38;5;22m \u001b[0m│\u001b[38;5;106m      \u001b[0m\u001b[38;5;106m \u001b[0m│\u001b[48;2;0;0;0m    \u001b[0m  \n",
      " \u001b[2m \u001b[0m\u001b[2m   9\u001b[0m\u001b[2m \u001b[0m│\u001b[34m      \u001b[0m\u001b[34m \u001b[0m│\u001b[34m      \u001b[0m\u001b[34m \u001b[0m│\u001b[34m      \u001b[0m\u001b[34m \u001b[0m│\u001b[38;5;22m       \u001b[0m\u001b[38;5;22m \u001b[0m│\u001b[38;5;22m      \u001b[0m\u001b[38;5;22m \u001b[0m│\u001b[38;5;22m              \u001b[0m\u001b[38;5;22m \u001b[0m│\u001b[38;5;106m      \u001b[0m\u001b[38;5;106m \u001b[0m│\u001b[48;2;0;0;0m    \u001b[0m  \n",
      " \u001b[2m \u001b[0m\u001b[2m  10\u001b[0m\u001b[2m \u001b[0m│\u001b[34m    5%\u001b[0m\u001b[34m \u001b[0m│\u001b[34m      \u001b[0m\u001b[34m \u001b[0m│\u001b[34m      \u001b[0m\u001b[34m \u001b[0m│\u001b[38;5;22m  11%  \u001b[0m\u001b[38;5;22m \u001b[0m│\u001b[38;5;22m    0M\u001b[0m\u001b[38;5;22m \u001b[0m│\u001b[38;5;22m▁▁▁▁▁▁▁  11%  \u001b[0m\u001b[38;5;22m \u001b[0m│\u001b[38;5;106m     1\u001b[0m\u001b[38;5;106m \u001b[0m│\u001b[38;2;204;204;204;48;2;0;0;0mst\u001b[0m\u001b[38;2;51;153;204;48;2;0;0;0m.\u001b[0m\u001b[38;2;204;204;204;48;2;0;0;0mh\u001b[0m  \n",
      " \u001b[2m \u001b[0m\u001b[2m  11\u001b[0m\u001b[2m \u001b[0m│\u001b[34m      \u001b[0m\u001b[34m \u001b[0m│\u001b[34m      \u001b[0m\u001b[34m \u001b[0m│\u001b[34m      \u001b[0m\u001b[34m \u001b[0m│\u001b[38;5;22m       \u001b[0m\u001b[38;5;22m \u001b[0m│\u001b[38;5;22m      \u001b[0m\u001b[38;5;22m \u001b[0m│\u001b[38;5;22m              \u001b[0m\u001b[38;5;22m \u001b[0m│\u001b[38;5;106m      \u001b[0m\u001b[38;5;106m \u001b[0m│\u001b[38;2;204;204;204;48;2;0;0;0mst\u001b[0m\u001b[38;2;51;153;204;48;2;0;0;0m.\u001b[0m\u001b[38;2;204;204;204;48;2;0;0;0ms\u001b[0m  \n",
      " \u001b[2m \u001b[0m\u001b[2m  12\u001b[0m\u001b[2m \u001b[0m│\u001b[34m      \u001b[0m\u001b[34m \u001b[0m│\u001b[34m      \u001b[0m\u001b[34m \u001b[0m│\u001b[34m      \u001b[0m\u001b[34m \u001b[0m│\u001b[38;5;22m       \u001b[0m\u001b[38;5;22m \u001b[0m│\u001b[38;5;22m      \u001b[0m\u001b[38;5;22m \u001b[0m│\u001b[38;5;22m              \u001b[0m\u001b[38;5;22m \u001b[0m│\u001b[38;5;106m      \u001b[0m\u001b[38;5;106m \u001b[0m│\u001b[48;2;0;0;0m    \u001b[0m  \n",
      " \u001b[2m \u001b[0m\u001b[2m  13\u001b[0m\u001b[2m \u001b[0m│\u001b[34m      \u001b[0m\u001b[34m \u001b[0m│\u001b[34m      \u001b[0m\u001b[34m \u001b[0m│\u001b[34m      \u001b[0m\u001b[34m \u001b[0m│\u001b[38;5;22m       \u001b[0m\u001b[38;5;22m \u001b[0m│\u001b[38;5;22m      \u001b[0m\u001b[38;5;22m \u001b[0m│\u001b[38;5;22m              \u001b[0m\u001b[38;5;22m \u001b[0m│\u001b[38;5;106m      \u001b[0m\u001b[38;5;106m \u001b[0m│\u001b[38;2;204;204;204;48;2;0;0;0mpred\u001b[0m  \n",
      " \u001b[2m \u001b[0m\u001b[2m  14\u001b[0m\u001b[2m \u001b[0m│\u001b[34m      \u001b[0m\u001b[34m \u001b[0m│\u001b[34m      \u001b[0m\u001b[34m \u001b[0m│\u001b[34m      \u001b[0m\u001b[34m \u001b[0m│\u001b[38;5;22m       \u001b[0m\u001b[38;5;22m \u001b[0m│\u001b[38;5;22m      \u001b[0m\u001b[38;5;22m \u001b[0m│\u001b[38;5;22m              \u001b[0m\u001b[38;5;22m \u001b[0m│\u001b[38;5;106m      \u001b[0m\u001b[38;5;106m \u001b[0m│\u001b[38;2;204;204;204;48;2;0;0;0mscor\u001b[0m  \n",
      " \u001b[2m \u001b[0m\u001b[2m  15\u001b[0m\u001b[2m \u001b[0m│\u001b[34m      \u001b[0m\u001b[34m \u001b[0m│\u001b[34m      \u001b[0m\u001b[34m \u001b[0m│\u001b[34m      \u001b[0m\u001b[34m \u001b[0m│\u001b[38;5;22m       \u001b[0m\u001b[38;5;22m \u001b[0m│\u001b[38;5;22m      \u001b[0m\u001b[38;5;22m \u001b[0m│\u001b[38;5;22m              \u001b[0m\u001b[38;5;22m \u001b[0m│\u001b[38;5;106m      \u001b[0m\u001b[38;5;106m \u001b[0m│\u001b[48;2;0;0;0m    \u001b[0m  \n",
      " \u001b[2m \u001b[0m\u001b[2m  16\u001b[0m\u001b[2m \u001b[0m│\u001b[34m      \u001b[0m\u001b[34m \u001b[0m│\u001b[34m      \u001b[0m\u001b[34m \u001b[0m│\u001b[34m      \u001b[0m\u001b[34m \u001b[0m│\u001b[38;5;22m       \u001b[0m\u001b[38;5;22m \u001b[0m│\u001b[38;5;22m      \u001b[0m\u001b[38;5;22m \u001b[0m│\u001b[38;5;22m              \u001b[0m\u001b[38;5;22m \u001b[0m│\u001b[38;5;106m      \u001b[0m\u001b[38;5;106m \u001b[0m│\u001b[38;2;204;204;204;48;2;0;0;0mfile\u001b[0m  \n",
      " \u001b[2m \u001b[0m\u001b[2m  17\u001b[0m\u001b[2m \u001b[0m│\u001b[34m      \u001b[0m\u001b[34m \u001b[0m│\u001b[34m      \u001b[0m\u001b[34m \u001b[0m│\u001b[34m      \u001b[0m\u001b[34m \u001b[0m│\u001b[38;5;22m       \u001b[0m\u001b[38;5;22m \u001b[0m│\u001b[38;5;22m      \u001b[0m\u001b[38;5;22m \u001b[0m│\u001b[38;5;22m              \u001b[0m\u001b[38;5;22m \u001b[0m│\u001b[38;5;106m      \u001b[0m\u001b[38;5;106m \u001b[0m│\u001b[38;2;204;204;204;48;2;0;0;0mfile\u001b[0m  \n",
      " \u001b[2m \u001b[0m\u001b[2m  18\u001b[0m\u001b[2m \u001b[0m│\u001b[34m      \u001b[0m\u001b[34m \u001b[0m│\u001b[34m      \u001b[0m\u001b[34m \u001b[0m│\u001b[34m      \u001b[0m\u001b[34m \u001b[0m│\u001b[38;5;22m       \u001b[0m\u001b[38;5;22m \u001b[0m│\u001b[38;5;22m      \u001b[0m\u001b[38;5;22m \u001b[0m│\u001b[38;5;22m              \u001b[0m\u001b[38;5;22m \u001b[0m│\u001b[38;5;106m      \u001b[0m\u001b[38;5;106m \u001b[0m│\u001b[48;2;0;0;0m    \u001b[0m  \n",
      " \u001b[2m \u001b[0m\u001b[2m  19\u001b[0m\u001b[2m \u001b[0m│\u001b[34m      \u001b[0m\u001b[34m \u001b[0m│\u001b[34m      \u001b[0m\u001b[34m \u001b[0m│\u001b[34m      \u001b[0m\u001b[34m \u001b[0m│\u001b[38;5;22m       \u001b[0m\u001b[38;5;22m \u001b[0m│\u001b[38;5;22m      \u001b[0m\u001b[38;5;22m \u001b[0m│\u001b[38;5;22m              \u001b[0m\u001b[38;5;22m \u001b[0m│\u001b[38;5;106m      \u001b[0m\u001b[38;5;106m \u001b[0m│\u001b[38;2;205;205;0;48;2;0;0;0mif\u001b[0m\u001b[38;2;204;204;204;48;2;0;0;0m \u001b[0m\u001b[38;2;204;204;204;48;2;0;0;0mf\u001b[0m  \n",
      " \u001b[2m \u001b[0m\u001b[2m  20\u001b[0m\u001b[2m \u001b[0m│\u001b[34m      \u001b[0m\u001b[34m \u001b[0m│\u001b[34m      \u001b[0m\u001b[34m \u001b[0m│\u001b[34m      \u001b[0m\u001b[34m \u001b[0m│\u001b[38;5;22m       \u001b[0m\u001b[38;5;22m \u001b[0m│\u001b[38;5;22m      \u001b[0m\u001b[38;5;22m \u001b[0m│\u001b[38;5;22m              \u001b[0m\u001b[38;5;22m \u001b[0m│\u001b[38;5;106m      \u001b[0m\u001b[38;5;106m \u001b[0m│\u001b[38;2;204;204;204;48;2;0;0;0m    \u001b[0m  \n",
      " \u001b[2m \u001b[0m\u001b[2m  21\u001b[0m\u001b[2m \u001b[0m│\u001b[34m      \u001b[0m\u001b[34m \u001b[0m│\u001b[34m      \u001b[0m\u001b[34m \u001b[0m│\u001b[34m      \u001b[0m\u001b[34m \u001b[0m│\u001b[38;5;22m       \u001b[0m\u001b[38;5;22m \u001b[0m│\u001b[38;5;22m      \u001b[0m\u001b[38;5;22m \u001b[0m│\u001b[38;5;22m              \u001b[0m\u001b[38;5;22m \u001b[0m│\u001b[38;5;106m      \u001b[0m\u001b[38;5;106m \u001b[0m│\u001b[38;2;204;204;204;48;2;0;0;0m    \u001b[0m  \n",
      " \u001b[2m \u001b[0m\u001b[2m  22\u001b[0m\u001b[2m \u001b[0m│\u001b[34m      \u001b[0m\u001b[34m \u001b[0m│\u001b[34m      \u001b[0m\u001b[34m \u001b[0m│\u001b[34m      \u001b[0m\u001b[34m \u001b[0m│\u001b[38;5;22m       \u001b[0m\u001b[38;5;22m \u001b[0m│\u001b[38;5;22m      \u001b[0m\u001b[38;5;22m \u001b[0m│\u001b[38;5;22m              \u001b[0m\u001b[38;5;22m \u001b[0m│\u001b[38;5;106m      \u001b[0m\u001b[38;5;106m \u001b[0m│\u001b[48;2;0;0;0m    \u001b[0m  \n",
      " \u001b[2m \u001b[0m\u001b[2m  23\u001b[0m\u001b[2m \u001b[0m│\u001b[34m      \u001b[0m\u001b[34m \u001b[0m│\u001b[34m      \u001b[0m\u001b[34m \u001b[0m│\u001b[34m      \u001b[0m\u001b[34m \u001b[0m│\u001b[38;5;22m       \u001b[0m\u001b[38;5;22m \u001b[0m│\u001b[38;5;22m      \u001b[0m\u001b[38;5;22m \u001b[0m│\u001b[38;5;22m              \u001b[0m\u001b[38;5;22m \u001b[0m│\u001b[38;5;106m      \u001b[0m\u001b[38;5;106m \u001b[0m│\u001b[38;2;205;205;0;48;2;0;0;0mif\u001b[0m\u001b[38;2;204;204;204;48;2;0;0;0m \u001b[0m\u001b[38;2;204;204;204;48;2;0;0;0mf\u001b[0m  \n",
      " \u001b[2m \u001b[0m\u001b[2m  24\u001b[0m\u001b[2m \u001b[0m│\u001b[34m      \u001b[0m\u001b[34m \u001b[0m│\u001b[34m      \u001b[0m\u001b[34m \u001b[0m│\u001b[34m      \u001b[0m\u001b[34m \u001b[0m│\u001b[38;5;22m       \u001b[0m\u001b[38;5;22m \u001b[0m│\u001b[38;5;22m      \u001b[0m\u001b[38;5;22m \u001b[0m│\u001b[38;5;22m              \u001b[0m\u001b[38;5;22m \u001b[0m│\u001b[38;5;106m      \u001b[0m\u001b[38;5;106m \u001b[0m│\u001b[38;2;204;204;204;48;2;0;0;0m    \u001b[0m  \n",
      " \u001b[2m \u001b[0m\u001b[2m  25\u001b[0m\u001b[2m \u001b[0m│\u001b[34m      \u001b[0m\u001b[34m \u001b[0m│\u001b[34m      \u001b[0m\u001b[34m \u001b[0m│\u001b[34m      \u001b[0m\u001b[34m \u001b[0m│\u001b[38;5;22m       \u001b[0m\u001b[38;5;22m \u001b[0m│\u001b[38;5;22m      \u001b[0m\u001b[38;5;22m \u001b[0m│\u001b[38;5;22m              \u001b[0m\u001b[38;5;22m \u001b[0m│\u001b[38;5;106m      \u001b[0m\u001b[38;5;106m \u001b[0m│\u001b[38;2;204;204;204;48;2;0;0;0m    \u001b[0m  \n",
      " \u001b[2m \u001b[0m\u001b[2m  26\u001b[0m\u001b[2m \u001b[0m│\u001b[34m      \u001b[0m\u001b[34m \u001b[0m│\u001b[34m      \u001b[0m\u001b[34m \u001b[0m│\u001b[34m      \u001b[0m\u001b[34m \u001b[0m│\u001b[38;5;22m       \u001b[0m\u001b[38;5;22m \u001b[0m│\u001b[38;5;22m      \u001b[0m\u001b[38;5;22m \u001b[0m│\u001b[38;5;22m              \u001b[0m\u001b[38;5;22m \u001b[0m│\u001b[38;5;106m      \u001b[0m\u001b[38;5;106m \u001b[0m│\u001b[38;2;204;204;204;48;2;0;0;0m   \u001b[0m\u001b[48;2;0;0;0m \u001b[0m  \n",
      " \u001b[2m \u001b[0m\u001b[2m  27\u001b[0m\u001b[2m \u001b[0m│\u001b[34m      \u001b[0m\u001b[34m \u001b[0m│\u001b[34m      \u001b[0m\u001b[34m \u001b[0m│\u001b[34m      \u001b[0m\u001b[34m \u001b[0m│\u001b[38;5;22m       \u001b[0m\u001b[38;5;22m \u001b[0m│\u001b[38;5;22m      \u001b[0m\u001b[38;5;22m \u001b[0m│\u001b[38;5;22m              \u001b[0m\u001b[38;5;22m \u001b[0m│\u001b[38;5;106m      \u001b[0m\u001b[38;5;106m \u001b[0m│\u001b[38;2;205;205;0;48;2;0;0;0mif\u001b[0m\u001b[38;2;204;204;204;48;2;0;0;0m \u001b[0m\u001b[38;2;204;204;204;48;2;0;0;0ms\u001b[0m  \n",
      " \u001b[2m \u001b[0m\u001b[2m  28\u001b[0m\u001b[2m \u001b[0m│\u001b[34m      \u001b[0m\u001b[34m \u001b[0m│\u001b[34m      \u001b[0m\u001b[34m \u001b[0m│\u001b[34m      \u001b[0m\u001b[34m \u001b[0m│\u001b[38;5;22m       \u001b[0m\u001b[38;5;22m \u001b[0m│\u001b[38;5;22m      \u001b[0m\u001b[38;5;22m \u001b[0m│\u001b[38;5;22m              \u001b[0m\u001b[38;5;22m \u001b[0m│\u001b[38;5;106m      \u001b[0m\u001b[38;5;106m \u001b[0m│\u001b[38;2;204;204;204;48;2;0;0;0m    \u001b[0m  \n",
      " \u001b[2m \u001b[0m\u001b[2m  29\u001b[0m\u001b[2m \u001b[0m│\u001b[34m      \u001b[0m\u001b[34m \u001b[0m│\u001b[34m      \u001b[0m\u001b[34m \u001b[0m│\u001b[34m      \u001b[0m\u001b[34m \u001b[0m│\u001b[38;5;22m       \u001b[0m\u001b[38;5;22m \u001b[0m│\u001b[38;5;22m      \u001b[0m\u001b[38;5;22m \u001b[0m│\u001b[38;5;22m              \u001b[0m\u001b[38;5;22m \u001b[0m│\u001b[38;5;106m      \u001b[0m\u001b[38;5;106m \u001b[0m│\u001b[38;2;204;204;204;48;2;0;0;0m    \u001b[0m  \n",
      " \u001b[2m \u001b[0m\u001b[2m  30\u001b[0m\u001b[2m \u001b[0m│\u001b[34m      \u001b[0m\u001b[34m \u001b[0m│\u001b[34m      \u001b[0m\u001b[34m \u001b[0m│\u001b[34m      \u001b[0m\u001b[34m \u001b[0m│\u001b[38;5;22m       \u001b[0m\u001b[38;5;22m \u001b[0m│\u001b[38;5;22m      \u001b[0m\u001b[38;5;22m \u001b[0m│\u001b[38;5;22m              \u001b[0m\u001b[38;5;22m \u001b[0m│\u001b[38;5;106m      \u001b[0m\u001b[38;5;106m \u001b[0m│\u001b[48;2;0;0;0m    \u001b[0m  \n",
      " \u001b[2m \u001b[0m\u001b[2m  31\u001b[0m\u001b[2m \u001b[0m│\u001b[34m      \u001b[0m\u001b[34m \u001b[0m│\u001b[34m      \u001b[0m\u001b[34m \u001b[0m│\u001b[34m      \u001b[0m\u001b[34m \u001b[0m│\u001b[38;5;22m       \u001b[0m\u001b[38;5;22m \u001b[0m│\u001b[38;5;22m      \u001b[0m\u001b[38;5;22m \u001b[0m│\u001b[38;5;22m              \u001b[0m\u001b[38;5;22m \u001b[0m│\u001b[38;5;106m      \u001b[0m\u001b[38;5;106m \u001b[0m│\u001b[38;2;204;204;204;48;2;0;0;0m    \u001b[0m  \n",
      " \u001b[2m \u001b[0m\u001b[2m  32\u001b[0m\u001b[2m \u001b[0m│\u001b[34m      \u001b[0m\u001b[34m \u001b[0m│\u001b[34m      \u001b[0m\u001b[34m \u001b[0m│\u001b[34m      \u001b[0m\u001b[34m \u001b[0m│\u001b[38;5;22m       \u001b[0m\u001b[38;5;22m \u001b[0m│\u001b[38;5;22m      \u001b[0m\u001b[38;5;22m \u001b[0m│\u001b[38;5;22m              \u001b[0m\u001b[38;5;22m \u001b[0m│\u001b[38;5;106m      \u001b[0m\u001b[38;5;106m \u001b[0m│\u001b[38;2;204;204;204;48;2;0;0;0m    \u001b[0m  \n",
      " \u001b[2m \u001b[0m\u001b[2m  33\u001b[0m\u001b[2m \u001b[0m│\u001b[34m      \u001b[0m\u001b[34m \u001b[0m│\u001b[34m      \u001b[0m\u001b[34m \u001b[0m│\u001b[34m      \u001b[0m\u001b[34m \u001b[0m│\u001b[38;5;22m       \u001b[0m\u001b[38;5;22m \u001b[0m│\u001b[38;5;22m      \u001b[0m\u001b[38;5;22m \u001b[0m│\u001b[38;5;22m              \u001b[0m\u001b[38;5;22m \u001b[0m│\u001b[38;5;106m      \u001b[0m\u001b[38;5;106m \u001b[0m│\u001b[38;2;204;204;204;48;2;0;0;0m    \u001b[0m  \n",
      " \u001b[2m \u001b[0m\u001b[2m  34\u001b[0m\u001b[2m \u001b[0m│\u001b[34m      \u001b[0m\u001b[34m \u001b[0m│\u001b[34m      \u001b[0m\u001b[34m \u001b[0m│\u001b[34m      \u001b[0m\u001b[34m \u001b[0m│\u001b[38;5;22m       \u001b[0m\u001b[38;5;22m \u001b[0m│\u001b[38;5;22m      \u001b[0m\u001b[38;5;22m \u001b[0m│\u001b[38;5;22m              \u001b[0m\u001b[38;5;22m \u001b[0m│\u001b[38;5;106m      \u001b[0m\u001b[38;5;106m \u001b[0m│\u001b[38;2;204;204;204;48;2;0;0;0m    \u001b[0m  \n",
      " \u001b[2m \u001b[0m\u001b[2m  35\u001b[0m\u001b[2m \u001b[0m│\u001b[34m      \u001b[0m\u001b[34m \u001b[0m│\u001b[34m      \u001b[0m\u001b[34m \u001b[0m│\u001b[34m      \u001b[0m\u001b[34m \u001b[0m│\u001b[38;5;22m       \u001b[0m\u001b[38;5;22m \u001b[0m│\u001b[38;5;22m      \u001b[0m\u001b[38;5;22m \u001b[0m│\u001b[38;5;22m              \u001b[0m\u001b[38;5;22m \u001b[0m│\u001b[38;5;106m      \u001b[0m\u001b[38;5;106m \u001b[0m│\u001b[38;2;204;204;204;48;2;0;0;0m    \u001b[0m  \n",
      " \u001b[2m \u001b[0m\u001b[2m  36\u001b[0m\u001b[2m \u001b[0m│\u001b[34m      \u001b[0m\u001b[34m \u001b[0m│\u001b[34m      \u001b[0m\u001b[34m \u001b[0m│\u001b[34m      \u001b[0m\u001b[34m \u001b[0m│\u001b[38;5;22m       \u001b[0m\u001b[38;5;22m \u001b[0m│\u001b[38;5;22m      \u001b[0m\u001b[38;5;22m \u001b[0m│\u001b[38;5;22m              \u001b[0m\u001b[38;5;22m \u001b[0m│\u001b[38;5;106m      \u001b[0m\u001b[38;5;106m \u001b[0m│\u001b[38;2;204;204;204;48;2;0;0;0m    \u001b[0m  \n",
      " \u001b[2m \u001b[0m\u001b[2m  37\u001b[0m\u001b[2m \u001b[0m│\u001b[34m      \u001b[0m\u001b[34m \u001b[0m│\u001b[34m      \u001b[0m\u001b[34m \u001b[0m│\u001b[34m      \u001b[0m\u001b[34m \u001b[0m│\u001b[38;5;22m       \u001b[0m\u001b[38;5;22m \u001b[0m│\u001b[38;5;22m      \u001b[0m\u001b[38;5;22m \u001b[0m│\u001b[38;5;22m              \u001b[0m\u001b[38;5;22m \u001b[0m│\u001b[38;5;106m      \u001b[0m\u001b[38;5;106m \u001b[0m│\u001b[38;2;204;204;204;48;2;0;0;0m    \u001b[0m  \n",
      " \u001b[2m \u001b[0m\u001b[2m  38\u001b[0m\u001b[2m \u001b[0m│\u001b[34m      \u001b[0m\u001b[34m \u001b[0m│\u001b[34m      \u001b[0m\u001b[34m \u001b[0m│\u001b[34m      \u001b[0m\u001b[34m \u001b[0m│\u001b[38;5;22m       \u001b[0m\u001b[38;5;22m \u001b[0m│\u001b[38;5;22m      \u001b[0m\u001b[38;5;22m \u001b[0m│\u001b[38;5;22m              \u001b[0m\u001b[38;5;22m \u001b[0m│\u001b[38;5;106m      \u001b[0m\u001b[38;5;106m \u001b[0m│\u001b[38;2;204;204;204;48;2;0;0;0m \u001b[0m\u001b[48;2;0;0;0m   \u001b[0m  \n",
      " \u001b[2m \u001b[0m\u001b[2m  39\u001b[0m\u001b[2m \u001b[0m│\u001b[34m      \u001b[0m\u001b[34m \u001b[0m│\u001b[34m      \u001b[0m\u001b[34m \u001b[0m│\u001b[34m      \u001b[0m\u001b[34m \u001b[0m│\u001b[38;5;22m       \u001b[0m\u001b[38;5;22m \u001b[0m│\u001b[38;5;22m      \u001b[0m\u001b[38;5;22m \u001b[0m│\u001b[38;5;22m              \u001b[0m\u001b[38;5;22m \u001b[0m│\u001b[38;5;106m      \u001b[0m\u001b[38;5;106m \u001b[0m│\u001b[48;2;0;0;0m    \u001b[0m  \n",
      " \u001b[2m \u001b[0m\u001b[2m  40\u001b[0m\u001b[2m \u001b[0m│\u001b[34m      \u001b[0m\u001b[34m \u001b[0m│\u001b[34m      \u001b[0m\u001b[34m \u001b[0m│\u001b[34m      \u001b[0m\u001b[34m \u001b[0m│\u001b[38;5;22m       \u001b[0m\u001b[38;5;22m \u001b[0m│\u001b[38;5;22m      \u001b[0m\u001b[38;5;22m \u001b[0m│\u001b[38;5;22m              \u001b[0m\u001b[38;5;22m \u001b[0m│\u001b[38;5;106m      \u001b[0m\u001b[38;5;106m \u001b[0m│\u001b[48;2;0;0;0m    \u001b[0m  \n",
      " \u001b[2m \u001b[0m\u001b[2m  41\u001b[0m\u001b[2m \u001b[0m│\u001b[34m      \u001b[0m\u001b[34m \u001b[0m│\u001b[34m      \u001b[0m\u001b[34m \u001b[0m│\u001b[34m      \u001b[0m\u001b[34m \u001b[0m│\u001b[38;5;22m       \u001b[0m\u001b[38;5;22m \u001b[0m│\u001b[38;5;22m      \u001b[0m\u001b[38;5;22m \u001b[0m│\u001b[38;5;22m              \u001b[0m\u001b[38;5;22m \u001b[0m│\u001b[38;5;106m      \u001b[0m\u001b[38;5;106m \u001b[0m│\u001b[48;2;0;0;0m    \u001b[0m  \n",
      " \u001b[2m \u001b[0m\u001b[2m  42\u001b[0m\u001b[2m \u001b[0m│\u001b[34m      \u001b[0m\u001b[34m \u001b[0m│\u001b[34m      \u001b[0m\u001b[34m \u001b[0m│\u001b[34m      \u001b[0m\u001b[34m \u001b[0m│\u001b[38;5;22m       \u001b[0m\u001b[38;5;22m \u001b[0m│\u001b[38;5;22m      \u001b[0m\u001b[38;5;22m \u001b[0m│\u001b[38;5;22m              \u001b[0m\u001b[38;5;22m \u001b[0m│\u001b[38;5;106m      \u001b[0m\u001b[38;5;106m \u001b[0m│\u001b[48;2;0;0;0m    \u001b[0m  \n",
      "       ╵       ╵       ╵       ╵        ╵       ╵               ╵       ╵      \n",
      "Top net memory consumption, by line:\n",
      "\u001b[38;5;22m(1)     1:    77 MB\u001b[0m                                                             \n",
      "\u001b[38;5;22m(2)     4:    39 MB\u001b[0m                                                             \n"
     ]
    }
   ],
   "source": [
    "!scalene app.py"
   ]
  },
  {
   "cell_type": "code",
   "execution_count": null,
   "id": "438bcbb9",
   "metadata": {},
   "outputs": [],
   "source": []
  }
 ],
 "metadata": {
  "kernelspec": {
   "display_name": "Python 3",
   "language": "python",
   "name": "python3"
  },
  "language_info": {
   "codemirror_mode": {
    "name": "ipython",
    "version": 3
   },
   "file_extension": ".py",
   "mimetype": "text/x-python",
   "name": "python",
   "nbconvert_exporter": "python",
   "pygments_lexer": "ipython3",
   "version": "3.9.5"
  }
 },
 "nbformat": 4,
 "nbformat_minor": 5
}
